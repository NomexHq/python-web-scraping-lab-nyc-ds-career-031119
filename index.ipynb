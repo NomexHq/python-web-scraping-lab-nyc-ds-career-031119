{
 "cells": [
  {
   "cell_type": "markdown",
   "metadata": {},
   "source": [
    "# Web Scraping Lab"
   ]
  },
  {
   "cell_type": "markdown",
   "metadata": {},
   "source": [
    "## Questions\n",
    "\n",
    "Resident Advisor is an events listing website for electronic music.\n",
    "\n",
    "Go to www.residentadvisor.net/events.  This is the url we'll be starting with for this lab.  For question 1, just use this url.  In the next two, you'll use country and region in the format: http://www.residentadvisor.net/country/region/ i.e. us/losangeles/.  Be sure to explore the web pages in both the browswer and the HTML file.  You'll need both to really understand what's going on.\n",
    "\n",
    "1. Which venues are hosting events this week?\n",
    "2. Make a function which returns the events this week given region and country (this will take two arguments)\n",
    "    - return the event name, link, and list of artists\n",
    "    - function returns list of ['event name', 'www.linkaddress.com', ['artist1','artist2','artist3']]\n",
    "3. Create a function which returns the users attending \n",
    "4. Bonus\n"
   ]
  },
  {
   "cell_type": "markdown",
   "metadata": {},
   "source": [
    "### Question 1 - Which venues are hosting events this week?"
   ]
  },
  {
   "cell_type": "code",
   "execution_count": 1,
   "metadata": {},
   "outputs": [],
   "source": [
    "import requests\n",
    "from bs4 import BeautifulSoup\n",
    "\n",
    "r = requests.get('https://www.residentadvisor.net/events')\n",
    "c = r.content\n",
    "soup = BeautifulSoup(c, 'html.parser')"
   ]
  },
  {
   "cell_type": "code",
   "execution_count": 2,
   "metadata": {},
   "outputs": [
    {
     "name": "stdout",
     "output_type": "stream",
     "text": [
      "<!DOCTYPE html>\n",
      "<html lang=\"en,ja,es\">\n",
      " <head id=\"_x1\">\n",
      "  <title>\n",
      "   RA: Events in New Jersey, United States of America\n",
      "  </title>\n",
      "  <meta content=\"text/html; charset=utf-8\" http-equiv=\"Content-Type\"/>\n",
      "  <meta content=\"en,ja,es\" http-equiv=\"content-language\"/>\n",
      "  <meta content=\"RA: Resident Advisor\" name=\"Description\"/>\n",
      "  <meta content=\"RA, residentadvisor, resident, advisor, music, ra, events, in, new, jersey, united, states, america\" name=\"Keywords\"/>\n",
      "  <meta content=\"Resident Advisor\" name=\"Author\"/>\n",
      "  <meta content=\"Resident Advisor\" property=\"og:site_name\"/>\n",
      "  <meta content=\"712773712080127\" property=\"fb:app_id\"/>\n",
      "  <link href=\"/bundles/default-css?v=73_zn4f444Ms1nbtnaddvbDUe15CsJN6vhoNK7oQovg1\" rel=\"stylesheet\"/>\n",
      "  <meta content=\"app-id=981952703, app-argument=ra-guide://search\" name=\"apple-itunes-app\"/>\n",
      "  <link href=\"/bundles/cat-listings-css?v=w7DJdRHlwvlSlvivLjU2DnToUsYFU7IYixebCORYtxw1\" rel=\"stylesheet\"/>\n",
      "  <link href=\"/favicon.ico\" rel=\"icon\" type=\"image/vnd.microsoft.icon\"/>\n"
     ]
    }
   ],
   "source": [
    "print(soup.prettify()[:1000])"
   ]
  },
  {
   "cell_type": "code",
   "execution_count": 3,
   "metadata": {},
   "outputs": [],
   "source": [
    "links = soup.findAll('<title>')\n",
    "links"
   ]
  },
  {
   "cell_type": "markdown",
   "metadata": {},
   "source": [
    "Your solution output should look like: '101bklyn', '291 Hooper St', '99 Scott Ave','Alphaville', 'Analog Bkny'..."
   ]
  },
  {
   "cell_type": "markdown",
   "metadata": {},
   "source": [
    "### Question 2 - Write a function to which returns the events this week given region and country."
   ]
  },
  {
   "cell_type": "code",
   "execution_count": 9,
   "metadata": {},
   "outputs": [],
   "source": [
    "def find_events(country, region):\n",
    "\n",
    "    \n",
    "    \n",
    "    \n",
    "    \n",
    "    \n",
    "    \n",
    "    \n",
    "    \n",
    "    \n"
   ]
  },
  {
   "cell_type": "code",
   "execution_count": 4,
   "metadata": {},
   "outputs": [
    {
     "data": {
      "text/plain": [
       "['Housepitality:Della, Homero Espinosa, Jason Peters at F8 1192 Folsom',\n",
       " 'http://residentadvisor.net/events/1173172',\n",
       " ['Della', 'Homero Espinosa', 'Jason Peters']]"
      ]
     },
     "execution_count": 4,
     "metadata": {},
     "output_type": "execute_result"
    }
   ],
   "source": [
    "# you should be able to output something like this\n",
    "find_events('us','sanfrancisco')[0]"
   ]
  },
  {
   "cell_type": "markdown",
   "metadata": {},
   "source": [
    "### Question 3 - Create a function which returns the numbers of users attending each event this week, given country and region.  Then plot a histogram"
   ]
  },
  {
   "cell_type": "code",
   "execution_count": 8,
   "metadata": {},
   "outputs": [],
   "source": [
    "def users_attending(country, region):\n",
    "\n",
    "    \n",
    "    \n",
    "    \n",
    "    \n",
    "    "
   ]
  },
  {
   "cell_type": "code",
   "execution_count": 11,
   "metadata": {},
   "outputs": [
    {
     "data": {
      "text/plain": [
       "[8, 5, 4, 3, 49, 18, 10, 3, 2, 11]"
      ]
     },
     "execution_count": 11,
     "metadata": {},
     "output_type": "execute_result"
    }
   ],
   "source": [
    "# you should be able to output something like this\n",
    "users_attending('us','newyork')[:10]"
   ]
  },
  {
   "cell_type": "code",
   "execution_count": null,
   "metadata": {},
   "outputs": [],
   "source": [
    "#now use the function to make a histogram\n",
    "import plotly.offline as offline\n",
    "import plotly.graph_objs as go\n",
    "\n",
    "offline.init_notebook_mode()\n",
    "\n",
    "offline.iplot([go.Histogram(x = users_attending('jp','tokyo'))])"
   ]
  },
  {
   "cell_type": "markdown",
   "metadata": {},
   "source": [
    "## Bonus: Build object relations between artists, venues, and events with sqlalchemy!\n",
    "Think about what each table should include - URLs, dates, etc."
   ]
  },
  {
   "cell_type": "code",
   "execution_count": null,
   "metadata": {},
   "outputs": [],
   "source": []
  }
 ],
 "metadata": {
  "kernelspec": {
   "display_name": "Python 3",
   "language": "python",
   "name": "python3"
  },
  "language_info": {
   "codemirror_mode": {
    "name": "ipython",
    "version": 3
   },
   "file_extension": ".py",
   "mimetype": "text/x-python",
   "name": "python",
   "nbconvert_exporter": "python",
   "pygments_lexer": "ipython3",
   "version": "3.6.6"
  }
 },
 "nbformat": 4,
 "nbformat_minor": 2
}
